{
 "cells": [
  {
   "cell_type": "code",
   "execution_count": 2,
   "metadata": {},
   "outputs": [
    {
     "name": "stdout",
     "output_type": "stream",
     "text": [
      "   First Col  Second Col  Third Col\n",
      "0          1           2          3\n",
      "1          1           4          6\n",
      "2          2           3          5\n",
      "3          2           6          2\n",
      "4          3           4          8\n"
     ]
    }
   ],
   "source": [
    "import pandas as pd\n",
    "import numpy as np\n",
    "\n",
    "n = np.array([[1,2,3],\n",
    "             [1,4,6], \n",
    "             [2,3,5],\n",
    "             [2,6,2],\n",
    "             [3,4,8]])\n",
    "\n",
    "df = pd.DataFrame(n, columns = [\"First Col\", \"Second Col\", \"Third Col\"])\n",
    "\n",
    "df = df.groupby(\"First Col\").sum()\n",
    "\n",
    "print(df)"
   ]
  },
  {
   "cell_type": "code",
   "execution_count": null,
   "metadata": {},
   "outputs": [],
   "source": []
  }
 ],
 "metadata": {
  "kernelspec": {
   "display_name": "Python 3",
   "language": "python",
   "name": "python3"
  },
  "language_info": {
   "codemirror_mode": {
    "name": "ipython",
    "version": 3
   },
   "file_extension": ".py",
   "mimetype": "text/x-python",
   "name": "python",
   "nbconvert_exporter": "python",
   "pygments_lexer": "ipython3",
   "version": "3.7.4"
  }
 },
 "nbformat": 4,
 "nbformat_minor": 4
}
